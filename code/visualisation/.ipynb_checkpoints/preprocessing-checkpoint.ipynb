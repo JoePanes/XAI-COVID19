{
 "cells": [
  {
   "cell_type": "code",
   "execution_count": 2,
   "metadata": {},
   "outputs": [],
   "source": [
    "import matplotlib\n",
    "import csv"
   ]
  },
  {
   "cell_type": "code",
   "execution_count": 3,
   "metadata": {},
   "outputs": [],
   "source": [
    "file = \"../../data/core/uk/Rt/uk_Rt.csv\""
   ]
  },
  {
   "cell_type": "code",
   "execution_count": 4,
   "metadata": {},
   "outputs": [],
   "source": [
    "dataset = []\n",
    "with open(file, \"r\") as dataFile:\n",
    "    myReader = csv.DictReader(dataFile)\n",
    "    \n",
    "    for row in myReader:\n",
    "        dataset.insert(0, row)\n",
    "\n"
   ]
  },
  {
   "cell_type": "code",
   "execution_count": 19,
   "metadata": {},
   "outputs": [],
   "source": [
    "def getRegionalIndexs(dataset):\n",
    "    \"\"\"\n",
    "    From the dataset, get the start and end indexes for each region\n",
    "\n",
    "    INPUT:\n",
    "        :param dataset: List of Dictionaries, where each entry is a row from the dataset\n",
    "\n",
    "    OUTPUT:\n",
    "        returns a list of tuples, which specify the start and end index range of each region in the\n",
    "        dataset\n",
    "    \"\"\"\n",
    "    currStartIndexNo = None\n",
    "    currRegion = None\n",
    "    regionalRangeList = []\n",
    "    for currIndex in range(len(dataset)):\n",
    "\n",
    "        if currRegion != dataset[currIndex].get(\"Regions\"):\n",
    "            if currRegion != None:\n",
    "                regionalRangeList.append((currStartIndexNo, currIndex - 1))\n",
    "\n",
    "            currRegion = dataset[currIndex].get(\"Regions\")\n",
    "            currStartIndexNo = currIndex\n",
    "\n",
    "        currIndex += 1\n",
    "    print(regionalRangeList)\n",
    "    #It misses (due to the if) one region at the end, therefore, add it on\n",
    "    currIndex = regionalRangeList[-1][1]\n",
    "    regionalRangeList.append((currIndex + 1, len(dataset)))\n",
    "\n",
    "    return regionalRangeList"
   ]
  },
  {
   "cell_type": "code",
   "execution_count": 20,
   "metadata": {},
   "outputs": [
    {
     "name": "stdout",
     "output_type": "stream",
     "text": [
      "[]\n"
     ]
    },
    {
     "ename": "IndexError",
     "evalue": "list index out of range",
     "output_type": "error",
     "traceback": [
      "\u001b[1;31m---------------------------------------------------------------------------\u001b[0m",
      "\u001b[1;31mIndexError\u001b[0m                                Traceback (most recent call last)",
      "\u001b[1;32m<ipython-input-20-41c3ef670972>\u001b[0m in \u001b[0;36m<module>\u001b[1;34m\u001b[0m\n\u001b[1;32m----> 1\u001b[1;33m \u001b[0mregionIndexes\u001b[0m \u001b[1;33m=\u001b[0m \u001b[0mgetRegionalIndexs\u001b[0m\u001b[1;33m(\u001b[0m\u001b[0mdataset\u001b[0m\u001b[1;33m)\u001b[0m\u001b[1;33m\u001b[0m\u001b[1;33m\u001b[0m\u001b[0m\n\u001b[0m",
      "\u001b[1;32m<ipython-input-19-4d882a725665>\u001b[0m in \u001b[0;36mgetRegionalIndexs\u001b[1;34m(dataset)\u001b[0m\n\u001b[0;32m     25\u001b[0m     \u001b[0mprint\u001b[0m\u001b[1;33m(\u001b[0m\u001b[0mregionalRangeList\u001b[0m\u001b[1;33m)\u001b[0m\u001b[1;33m\u001b[0m\u001b[1;33m\u001b[0m\u001b[0m\n\u001b[0;32m     26\u001b[0m     \u001b[1;31m#It misses (due to the if) one region at the end, therefore, add it on\u001b[0m\u001b[1;33m\u001b[0m\u001b[1;33m\u001b[0m\u001b[1;33m\u001b[0m\u001b[0m\n\u001b[1;32m---> 27\u001b[1;33m     \u001b[0mcurrIndex\u001b[0m \u001b[1;33m=\u001b[0m \u001b[0mregionalRangeList\u001b[0m\u001b[1;33m[\u001b[0m\u001b[1;33m-\u001b[0m\u001b[1;36m1\u001b[0m\u001b[1;33m]\u001b[0m\u001b[1;33m[\u001b[0m\u001b[1;36m1\u001b[0m\u001b[1;33m]\u001b[0m\u001b[1;33m\u001b[0m\u001b[1;33m\u001b[0m\u001b[0m\n\u001b[0m\u001b[0;32m     28\u001b[0m     \u001b[0mregionalRangeList\u001b[0m\u001b[1;33m.\u001b[0m\u001b[0mappend\u001b[0m\u001b[1;33m(\u001b[0m\u001b[1;33m(\u001b[0m\u001b[0mcurrIndex\u001b[0m \u001b[1;33m+\u001b[0m \u001b[1;36m1\u001b[0m\u001b[1;33m,\u001b[0m \u001b[0mlen\u001b[0m\u001b[1;33m(\u001b[0m\u001b[0mdataset\u001b[0m\u001b[1;33m)\u001b[0m\u001b[1;33m)\u001b[0m\u001b[1;33m)\u001b[0m\u001b[1;33m\u001b[0m\u001b[1;33m\u001b[0m\u001b[0m\n\u001b[0;32m     29\u001b[0m \u001b[1;33m\u001b[0m\u001b[0m\n",
      "\u001b[1;31mIndexError\u001b[0m: list index out of range"
     ]
    }
   ],
   "source": [
    "regionIndexes = getRegionalIndexs(dataset)"
   ]
  },
  {
   "cell_type": "code",
   "execution_count": null,
   "metadata": {},
   "outputs": [],
   "source": []
  }
 ],
 "metadata": {
  "kernelspec": {
   "display_name": "Python 3",
   "language": "python",
   "name": "python3"
  },
  "language_info": {
   "codemirror_mode": {
    "name": "ipython",
    "version": 3
   },
   "file_extension": ".py",
   "mimetype": "text/x-python",
   "name": "python",
   "nbconvert_exporter": "python",
   "pygments_lexer": "ipython3",
   "version": "3.7.4"
  }
 },
 "nbformat": 4,
 "nbformat_minor": 2
}
